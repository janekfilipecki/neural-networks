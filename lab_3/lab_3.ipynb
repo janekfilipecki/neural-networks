{
 "cells": [
  {
   "cell_type": "code",
   "execution_count": 493,
   "metadata": {},
   "outputs": [],
   "source": [
    "import torch\n",
    "import torch.nn as nn\n",
    "import torch.optim as optim\n",
    "import pandas as pd\n",
    "from sklearn.model_selection import train_test_split\n",
    "from sklearn.preprocessing import MinMaxScaler, OneHotEncoder\n",
    "from torch.utils.data import Dataset, DataLoader\n",
    "import numpy as np\n",
    "import plotly.graph_objects as go\n",
    "\n",
    "device = torch.device(\"cuda\") if torch.cuda.is_available() else torch.device(\"cpu\")"
   ]
  },
  {
   "cell_type": "code",
   "execution_count": 494,
   "metadata": {},
   "outputs": [],
   "source": [
    "class BikeDatasetCount(Dataset):\n",
    "    def __init__(self, data):\n",
    "        self.X = torch.tensor(data.iloc[:, :-3].values, dtype=torch.float32)\n",
    "        self.y = torch.tensor(data.iloc[:, -1].values, dtype=torch.float32)\n",
    "\n",
    "    def __len__(self):\n",
    "        return len(self.X)\n",
    "\n",
    "    def __getitem__(self, idx):\n",
    "        return self.X[idx], self.y[idx]"
   ]
  },
  {
   "cell_type": "code",
   "execution_count": 495,
   "metadata": {},
   "outputs": [],
   "source": [
    "class BikeDatasetCasual(Dataset):\n",
    "    def __init__(self, data):\n",
    "        self.X = torch.tensor(data.iloc[:, :-3].values, dtype=torch.float32)\n",
    "        self.y = torch.tensor(data.iloc[:, -3].values, dtype=torch.float32)\n",
    "\n",
    "    def __len__(self):\n",
    "        return len(self.X)\n",
    "\n",
    "    def __getitem__(self, idx):\n",
    "        return self.X[idx], self.y[idx]"
   ]
  },
  {
   "cell_type": "code",
   "execution_count": 496,
   "metadata": {},
   "outputs": [],
   "source": [
    "class BikeDatasetRegistered(Dataset):\n",
    "    def __init__(self, data):\n",
    "        self.X = torch.tensor(data.iloc[:, :-3].values, dtype=torch.float32)\n",
    "        self.y = torch.tensor(data.iloc[:, -2].values, dtype=torch.float32)\n",
    "\n",
    "    def __len__(self):\n",
    "        return len(self.X)\n",
    "\n",
    "    def __getitem__(self, idx):\n",
    "        return self.X[idx], self.y[idx]"
   ]
  },
  {
   "cell_type": "code",
   "execution_count": 497,
   "metadata": {},
   "outputs": [],
   "source": [
    "raw_data = pd.read_csv(\"./data.csv\", delimiter=\",\")"
   ]
  },
  {
   "cell_type": "code",
   "execution_count": 498,
   "metadata": {},
   "outputs": [],
   "source": [
    "clean_data = raw_data.drop(['instant', 'dteday'], axis=1)"
   ]
  },
  {
   "cell_type": "code",
   "execution_count": 499,
   "metadata": {},
   "outputs": [
    {
     "name": "stderr",
     "output_type": "stream",
     "text": [
      "C:\\Users\\dziew\\AppData\\Local\\Temp\\ipykernel_6788\\2596302904.py:3: FutureWarning:\n",
      "\n",
      "In a future version, `df.iloc[:, i] = newvals` will attempt to set the values inplace instead of always setting a new array. To retain the old behavior, use either `df[df.columns[i]] = newvals` or, if columns are non-unique, `df.isetitem(i, newvals)`\n",
      "\n"
     ]
    }
   ],
   "source": [
    "scaler = MinMaxScaler()\n",
    "\n",
    "clean_data.iloc[:, :-3] = scaler.fit_transform(clean_data.iloc[:, :-3])\n",
    "\n",
    "train_data, test_data = train_test_split(clean_data, test_size=0.2, random_state=42)"
   ]
  },
  {
   "cell_type": "code",
   "execution_count": 500,
   "metadata": {},
   "outputs": [],
   "source": [
    "# Define the dataset and dataloader objects\n",
    "train_dataset = BikeDatasetCount(train_data)\n",
    "test_dataset = BikeDatasetCount(test_data)\n",
    "train_dataloader = DataLoader(train_dataset, batch_size=124, shuffle=True)\n",
    "test_dataloader = DataLoader(test_dataset, batch_size=124, shuffle=False)"
   ]
  },
  {
   "cell_type": "code",
   "execution_count": 501,
   "metadata": {},
   "outputs": [
    {
     "data": {
      "text/plain": [
       "[tensor([[0.0000, 1.0000, 0.0909,  ..., 0.4575, 0.6700, 0.1579],\n",
       "         [0.3333, 0.0000, 0.4545,  ..., 0.6779, 0.4400, 0.1930],\n",
       "         [0.3333, 0.0000, 0.4545,  ..., 0.5932, 0.8800, 0.1053],\n",
       "         ...,\n",
       "         [0.6667, 0.0000, 0.6364,  ..., 0.6610, 0.8300, 0.3860],\n",
       "         [0.3333, 0.0000, 0.3636,  ..., 0.5932, 0.6000, 0.4562],\n",
       "         [0.0000, 1.0000, 0.0909,  ..., 0.4407, 0.4300, 0.5439]]),\n",
       " tensor([  2., 330.,   5., 209.,   1., 609., 280., 153., 416.,   7.,  29., 204.,\n",
       "          32., 552., 540.,  78., 180.,   4., 300.,   7., 139.,  95.,  14., 272.,\n",
       "         149.,  86.,   1., 491., 387., 437.,  69., 112., 248., 172., 390.,   7.,\n",
       "         150., 179.,  28., 263., 517.,   5., 332., 129.,  75.,  46.,  53., 394.,\n",
       "         207., 211., 355.,  36.,  96., 379., 233., 274., 382., 496.,  15.,  23.,\n",
       "           6., 182.,  12., 189.,  56., 104.,  80.,  88.,  97.,  33., 113.,  10.,\n",
       "          90., 265., 159., 144.,   9., 141., 229.,  39., 168.,  14.,  12., 126.,\n",
       "          89., 782., 133., 263., 101.,  10.,  30.,  89.,  54.,  14., 258.,  86.,\n",
       "         290., 592., 222.,  25.,  59., 264., 251., 218., 195., 378., 174.,   8.,\n",
       "          65.,  82., 384.,   7.,   2.,  18., 591., 191.,  49., 671.,  17.,   8.,\n",
       "         206., 120., 113., 410.])]"
      ]
     },
     "execution_count": 501,
     "metadata": {},
     "output_type": "execute_result"
    }
   ],
   "source": [
    "next(iter(train_dataloader))"
   ]
  },
  {
   "cell_type": "code",
   "execution_count": 502,
   "metadata": {},
   "outputs": [
    {
     "data": {
      "text/plain": [
       "12"
      ]
     },
     "execution_count": 502,
     "metadata": {},
     "output_type": "execute_result"
    }
   ],
   "source": [
    "len(clean_data.columns) - 3"
   ]
  },
  {
   "cell_type": "code",
   "execution_count": 503,
   "metadata": {},
   "outputs": [],
   "source": [
    "# Define the neural network architecture\n",
    "class FirstNetwork(nn.Module):\n",
    "    def __init__(self):\n",
    "        super(FirstNetwork, self).__init__()\n",
    "        self.fc1 = nn.Linear(12, 64)\n",
    "        self.fc2 = nn.Linear(64, 32)\n",
    "        self.fc3 = nn.Linear(32, 1)\n",
    "        self.tanh = nn.Tanh()\n",
    "        self.dropout = nn.Dropout(p=0.2)\n",
    "        \n",
    "    def forward(self, x):\n",
    "        x = self.fc1(x)\n",
    "        x = self.tanh(x)\n",
    "        x = self.dropout(x)\n",
    "        x = self.fc2(x)\n",
    "        x = self.tanh(x)\n",
    "        x = self.dropout(x)\n",
    "        x = self.fc3(x)\n",
    "        return x"
   ]
  },
  {
   "cell_type": "code",
   "execution_count": 504,
   "metadata": {},
   "outputs": [
    {
     "name": "stdout",
     "output_type": "stream",
     "text": [
      "Epoch 1: Train loss = 37874.84600572183, test loss: 33089.046875\n",
      "Epoch 2: Train loss = 32835.552156690144, test loss: 33090.31640625\n",
      "Epoch 3: Train loss = 32809.300616197186, test loss: 33089.14453125\n",
      "Epoch 4: Train loss = 32749.17930237676, test loss: 33094.53515625\n",
      "Epoch 5: Train loss = 32642.524867957745, test loss: 33129.79296875\n",
      "Epoch 6: Train loss = 32684.797095070422, test loss: 33089.3828125\n",
      "Epoch 7: Train loss = 32793.00013754401, test loss: 33093.2890625\n",
      "Epoch 8: Train loss = 32716.381519586266, test loss: 33089.16796875\n",
      "Epoch 9: Train loss = 32747.300643705985, test loss: 33088.9921875\n",
      "Epoch 10: Train loss = 32745.5810409331, test loss: 33128.7421875\n",
      "Epoch 11: Train loss = 32671.85857724472, test loss: 33099.02734375\n",
      "Epoch 12: Train loss = 32850.431860695426, test loss: 33090.90234375\n",
      "Epoch 13: Train loss = 32613.921544894365, test loss: 33099.2265625\n",
      "Epoch 14: Train loss = 32648.710634903167, test loss: 33089.0078125\n",
      "Epoch 15: Train loss = 32700.031552596833, test loss: 33105.859375\n",
      "Epoch 16: Train loss = 32738.392082966548, test loss: 33089.6796875\n",
      "Epoch 17: Train loss = 32608.661366637323, test loss: 33114.671875\n",
      "Epoch 18: Train loss = 32632.043188820422, test loss: 33088.9140625\n",
      "Epoch 19: Train loss = 33038.32961047535, test loss: 33089.00390625\n",
      "Epoch 20: Train loss = 32686.836570202464, test loss: 33091.41015625\n",
      "Epoch 21: Train loss = 32668.147887323943, test loss: 33124.3515625\n",
      "Epoch 22: Train loss = 33137.40963358275, test loss: 33092.41015625\n",
      "Epoch 23: Train loss = 32673.311289612677, test loss: 33089.19921875\n",
      "Epoch 24: Train loss = 32906.29855303697, test loss: 33111.046875\n",
      "Epoch 25: Train loss = 32683.282900528167, test loss: 33992.5390625\n",
      "Epoch 26: Train loss = 33239.95282240317, test loss: 33591.89453125\n",
      "Epoch 27: Train loss = 33122.55108384683, test loss: 33089.75\n",
      "Epoch 28: Train loss = 32785.33409441021, test loss: 33089.234375\n",
      "Epoch 29: Train loss = 32802.67993507923, test loss: 33093.578125\n",
      "Epoch 30: Train loss = 32553.094231404048, test loss: 33199.48828125\n",
      "Epoch 31: Train loss = 32717.582553917255, test loss: 33091.23828125\n",
      "Epoch 32: Train loss = 32654.05333956866, test loss: 33089.05078125\n",
      "Epoch 33: Train loss = 32942.549158230635, test loss: 33110.01171875\n",
      "Epoch 34: Train loss = 32827.647859815144, test loss: 33089.48828125\n",
      "Epoch 35: Train loss = 32812.018183318665, test loss: 33091.12890625\n",
      "Epoch 36: Train loss = 32581.571247799297, test loss: 33135.87109375\n",
      "Epoch 37: Train loss = 32922.63930457747, test loss: 33088.953125\n",
      "Epoch 38: Train loss = 32797.59949933979, test loss: 33111.60546875\n",
      "Epoch 39: Train loss = 32892.14032240317, test loss: 33106.171875\n",
      "Epoch 40: Train loss = 32660.19844850352, test loss: 33094.6875\n",
      "Epoch 41: Train loss = 32902.872056558095, test loss: 33090.2265625\n",
      "Epoch 42: Train loss = 32768.61561949824, test loss: 33090.640625\n",
      "Epoch 43: Train loss = 32794.89345840669, test loss: 33124.5546875\n",
      "Epoch 44: Train loss = 32962.26515735035, test loss: 33088.8203125\n",
      "Epoch 45: Train loss = 32884.74103213028, test loss: 33106.7265625\n",
      "Epoch 46: Train loss = 32755.048965669015, test loss: 33094.62890625\n",
      "Epoch 47: Train loss = 32650.021071742958, test loss: 33089.40625\n",
      "Epoch 48: Train loss = 32843.94404709507, test loss: 33095.22265625\n",
      "Epoch 49: Train loss = 32677.879841549297, test loss: 33113.19140625\n",
      "Epoch 50: Train loss = 32749.574081205985, test loss: 33097.609375\n",
      "Epoch 51: Train loss = 32783.16961927817, test loss: 33089.4375\n",
      "Epoch 52: Train loss = 32739.675313600354, test loss: 33097.921875\n",
      "Epoch 53: Train loss = 32709.632564920776, test loss: 33091.52734375\n",
      "Epoch 54: Train loss = 32651.292886223593, test loss: 33090.44921875\n",
      "Epoch 55: Train loss = 32683.521319322183, test loss: 33102.26171875\n",
      "Epoch 56: Train loss = 32813.766450264084, test loss: 33097.5234375\n",
      "Epoch 57: Train loss = 32757.21894256162, test loss: 33091.12109375\n",
      "Epoch 58: Train loss = 32593.54335387324, test loss: 33092.41796875\n",
      "Epoch 59: Train loss = 32653.9462753081, test loss: 33088.96875\n",
      "Epoch 60: Train loss = 32699.220207966548, test loss: 33089.140625\n",
      "Epoch 61: Train loss = 32936.04013534331, test loss: 33089.44140625\n",
      "Epoch 62: Train loss = 32595.527371258802, test loss: 33093.1796875\n",
      "Epoch 63: Train loss = 32886.39167033451, test loss: 33096.3828125\n",
      "Epoch 64: Train loss = 32847.77016395247, test loss: 33090.31640625\n",
      "Epoch 65: Train loss = 32729.366747359156, test loss: 33109.87890625\n",
      "Epoch 66: Train loss = 32928.27899427817, test loss: 33088.96484375\n",
      "Epoch 67: Train loss = 32939.03188270247, test loss: 33093.390625\n",
      "Epoch 68: Train loss = 32655.035843970072, test loss: 33106.34765625\n",
      "Epoch 69: Train loss = 32809.270494058095, test loss: 33094.6640625\n",
      "Epoch 70: Train loss = 32650.502008142605, test loss: 33092.80859375\n",
      "Epoch 71: Train loss = 32690.085799955985, test loss: 33119.34765625\n",
      "Epoch 72: Train loss = 32723.989876760563, test loss: 33090.578125\n",
      "Epoch 73: Train loss = 32751.030809859156, test loss: 33102.17578125\n",
      "Epoch 74: Train loss = 32882.77374009683, test loss: 33088.83984375\n",
      "Epoch 75: Train loss = 32669.24160981514, test loss: 33318.47265625\n",
      "Epoch 76: Train loss = 32971.30432988556, test loss: 33089.34375\n",
      "Epoch 77: Train loss = 32755.689040492958, test loss: 33089.015625\n",
      "Epoch 78: Train loss = 32661.089871258802, test loss: 33096.4921875\n",
      "Epoch 79: Train loss = 32616.69355193662, test loss: 33106.30078125\n",
      "Epoch 80: Train loss = 32766.60079225352, test loss: 33092.66796875\n",
      "Epoch 81: Train loss = 32859.022337147886, test loss: 33090.8203125\n",
      "Epoch 82: Train loss = 32625.37810849472, test loss: 33089.72265625\n",
      "Epoch 83: Train loss = 32924.827959947186, test loss: 33089.078125\n",
      "Epoch 84: Train loss = 32815.65597491197, test loss: 33097.796875\n",
      "Epoch 85: Train loss = 32795.534330985916, test loss: 33124.36328125\n",
      "Epoch 86: Train loss = 32644.552569322183, test loss: 33092.109375\n",
      "Epoch 87: Train loss = 32970.30741087148, test loss: 33135.2265625\n",
      "Epoch 88: Train loss = 32745.16953675176, test loss: 33131.11328125\n",
      "Epoch 89: Train loss = 32852.31090448944, test loss: 33089.828125\n",
      "Epoch 90: Train loss = 32770.1894256162, test loss: 33089.03515625\n",
      "Epoch 91: Train loss = 32858.589678697186, test loss: 33093.58203125\n",
      "Epoch 92: Train loss = 32773.769311179574, test loss: 33093.6015625\n",
      "Epoch 93: Train loss = 32686.823696082745, test loss: 33089.5546875\n",
      "Epoch 94: Train loss = 32780.12813600352, test loss: 33097.01953125\n",
      "Epoch 95: Train loss = 32617.498679577464, test loss: 33118.66015625\n",
      "Epoch 96: Train loss = 32745.51171875, test loss: 33093.38671875\n",
      "Epoch 97: Train loss = 32576.7334121919, test loss: 33102.578125\n",
      "Epoch 98: Train loss = 32627.50819762324, test loss: 33091.1484375\n",
      "Epoch 99: Train loss = 32623.17459837148, test loss: 33139.80859375\n",
      "Epoch 100: Train loss = 32717.178972271126, test loss: 33096.51171875\n"
     ]
    }
   ],
   "source": [
    "model = FirstNetwork()\n",
    "\n",
    "# Move model to device\n",
    "model.to(device)\n",
    "\n",
    "criterion = nn.MSELoss()\n",
    "optimizer = optim.SGD(model.parameters(), lr=0.001)\n",
    "\n",
    "training_losses = []\n",
    "testing_losses = []\n",
    "\n",
    "# Train the model\n",
    "num_epochs = 100\n",
    "for epoch in range(num_epochs):\n",
    "    running_loss = 0.0\n",
    "    for i, data in enumerate(train_dataloader):\n",
    "        inputs, labels = data\n",
    "        \n",
    "        # Move data to device\n",
    "        inputs = inputs.to(device)\n",
    "        labels = labels.to(device)\n",
    "\n",
    "\n",
    "        optimizer.zero_grad()\n",
    "        outputs = model(inputs)\n",
    "        loss = criterion(outputs, labels.unsqueeze(1))\n",
    "        loss.backward()\n",
    "        optimizer.step()\n",
    "        \n",
    "        running_loss += loss.item()\n",
    "    training_losses.append(running_loss / len(train_dataloader))\n",
    "\n",
    "    model.eval()\n",
    "    with torch.no_grad():\n",
    "        test_loss = 0\n",
    "        for inputs, targets in test_dataloader:\n",
    "\n",
    "            # Move data to device\n",
    "            inputs = inputs.to(device)\n",
    "            targets = targets.to(device)\n",
    "            outputs = model(inputs)\n",
    "\n",
    "            test_loss += criterion(outputs, targets.unsqueeze(1))\n",
    "        testing_losses.append(test_loss / len(test_dataloader))\n",
    "    print(f\"Epoch {epoch+1}: Train loss = {running_loss / len(train_dataloader)}, test loss: {test_loss / len(test_dataloader)}\")"
   ]
  },
  {
   "cell_type": "code",
   "execution_count": 505,
   "metadata": {},
   "outputs": [
    {
     "data": {
      "application/vnd.plotly.v1+json": {
       "config": {
        "plotlyServerURL": "https://plot.ly"
       },
       "data": [
        {
         "name": "Train",
         "type": "scatter",
         "x": [
          0,
          1,
          2,
          3,
          4,
          5,
          6,
          7,
          8,
          9,
          10,
          11,
          12,
          13,
          14,
          15,
          16,
          17,
          18,
          19,
          20,
          21,
          22,
          23,
          24,
          25,
          26,
          27,
          28,
          29,
          30,
          31,
          32,
          33,
          34,
          35,
          36,
          37,
          38,
          39,
          40,
          41,
          42,
          43,
          44,
          45,
          46,
          47,
          48,
          49,
          50,
          51,
          52,
          53,
          54,
          55,
          56,
          57,
          58,
          59,
          60,
          61,
          62,
          63,
          64,
          65,
          66,
          67,
          68,
          69,
          70,
          71,
          72,
          73,
          74,
          75,
          76,
          77,
          78,
          79,
          80,
          81,
          82,
          83,
          84,
          85,
          86,
          87,
          88,
          89,
          90,
          91,
          92,
          93,
          94,
          95,
          96,
          97,
          98,
          99
         ],
         "y": [
          37874.84600572183,
          32835.552156690144,
          32809.300616197186,
          32749.17930237676,
          32642.524867957745,
          32684.797095070422,
          32793.00013754401,
          32716.381519586266,
          32747.300643705985,
          32745.5810409331,
          32671.85857724472,
          32850.431860695426,
          32613.921544894365,
          32648.710634903167,
          32700.031552596833,
          32738.392082966548,
          32608.661366637323,
          32632.043188820422,
          33038.32961047535,
          32686.836570202464,
          32668.147887323943,
          33137.40963358275,
          32673.311289612677,
          32906.29855303697,
          32683.282900528167,
          33239.95282240317,
          33122.55108384683,
          32785.33409441021,
          32802.67993507923,
          32553.094231404048,
          32717.582553917255,
          32654.05333956866,
          32942.549158230635,
          32827.647859815144,
          32812.018183318665,
          32581.571247799297,
          32922.63930457747,
          32797.59949933979,
          32892.14032240317,
          32660.19844850352,
          32902.872056558095,
          32768.61561949824,
          32794.89345840669,
          32962.26515735035,
          32884.74103213028,
          32755.048965669015,
          32650.021071742958,
          32843.94404709507,
          32677.879841549297,
          32749.574081205985,
          32783.16961927817,
          32739.675313600354,
          32709.632564920776,
          32651.292886223593,
          32683.521319322183,
          32813.766450264084,
          32757.21894256162,
          32593.54335387324,
          32653.9462753081,
          32699.220207966548,
          32936.04013534331,
          32595.527371258802,
          32886.39167033451,
          32847.77016395247,
          32729.366747359156,
          32928.27899427817,
          32939.03188270247,
          32655.035843970072,
          32809.270494058095,
          32650.502008142605,
          32690.085799955985,
          32723.989876760563,
          32751.030809859156,
          32882.77374009683,
          32669.24160981514,
          32971.30432988556,
          32755.689040492958,
          32661.089871258802,
          32616.69355193662,
          32766.60079225352,
          32859.022337147886,
          32625.37810849472,
          32924.827959947186,
          32815.65597491197,
          32795.534330985916,
          32644.552569322183,
          32970.30741087148,
          32745.16953675176,
          32852.31090448944,
          32770.1894256162,
          32858.589678697186,
          32773.769311179574,
          32686.823696082745,
          32780.12813600352,
          32617.498679577464,
          32745.51171875,
          32576.7334121919,
          32627.50819762324,
          32623.17459837148,
          32717.178972271126
         ]
        },
        {
         "name": "Test",
         "type": "scatter",
         "x": [
          0,
          1,
          2,
          3,
          4,
          5,
          6,
          7,
          8,
          9,
          10,
          11,
          12,
          13,
          14,
          15,
          16,
          17,
          18,
          19,
          20,
          21,
          22,
          23,
          24,
          25,
          26,
          27,
          28,
          29,
          30,
          31,
          32,
          33,
          34,
          35,
          36,
          37,
          38,
          39,
          40,
          41,
          42,
          43,
          44,
          45,
          46,
          47,
          48,
          49,
          50,
          51,
          52,
          53,
          54,
          55,
          56,
          57,
          58,
          59,
          60,
          61,
          62,
          63,
          64,
          65,
          66,
          67,
          68,
          69,
          70,
          71,
          72,
          73,
          74,
          75,
          76,
          77,
          78,
          79,
          80,
          81,
          82,
          83,
          84,
          85,
          86,
          87,
          88,
          89,
          90,
          91,
          92,
          93,
          94,
          95,
          96,
          97,
          98,
          99
         ],
         "y": [
          33089.046875,
          33090.31640625,
          33089.14453125,
          33094.53515625,
          33129.79296875,
          33089.3828125,
          33093.2890625,
          33089.16796875,
          33088.9921875,
          33128.7421875,
          33099.02734375,
          33090.90234375,
          33099.2265625,
          33089.0078125,
          33105.859375,
          33089.6796875,
          33114.671875,
          33088.9140625,
          33089.00390625,
          33091.41015625,
          33124.3515625,
          33092.41015625,
          33089.19921875,
          33111.046875,
          33992.5390625,
          33591.89453125,
          33089.75,
          33089.234375,
          33093.578125,
          33199.48828125,
          33091.23828125,
          33089.05078125,
          33110.01171875,
          33089.48828125,
          33091.12890625,
          33135.87109375,
          33088.953125,
          33111.60546875,
          33106.171875,
          33094.6875,
          33090.2265625,
          33090.640625,
          33124.5546875,
          33088.8203125,
          33106.7265625,
          33094.62890625,
          33089.40625,
          33095.22265625,
          33113.19140625,
          33097.609375,
          33089.4375,
          33097.921875,
          33091.52734375,
          33090.44921875,
          33102.26171875,
          33097.5234375,
          33091.12109375,
          33092.41796875,
          33088.96875,
          33089.140625,
          33089.44140625,
          33093.1796875,
          33096.3828125,
          33090.31640625,
          33109.87890625,
          33088.96484375,
          33093.390625,
          33106.34765625,
          33094.6640625,
          33092.80859375,
          33119.34765625,
          33090.578125,
          33102.17578125,
          33088.83984375,
          33318.47265625,
          33089.34375,
          33089.015625,
          33096.4921875,
          33106.30078125,
          33092.66796875,
          33090.8203125,
          33089.72265625,
          33089.078125,
          33097.796875,
          33124.36328125,
          33092.109375,
          33135.2265625,
          33131.11328125,
          33089.828125,
          33089.03515625,
          33093.58203125,
          33093.6015625,
          33089.5546875,
          33097.01953125,
          33118.66015625,
          33093.38671875,
          33102.578125,
          33091.1484375,
          33139.80859375,
          33096.51171875
         ]
        }
       ],
       "layout": {
        "template": {
         "data": {
          "bar": [
           {
            "error_x": {
             "color": "#2a3f5f"
            },
            "error_y": {
             "color": "#2a3f5f"
            },
            "marker": {
             "line": {
              "color": "#E5ECF6",
              "width": 0.5
             },
             "pattern": {
              "fillmode": "overlay",
              "size": 10,
              "solidity": 0.2
             }
            },
            "type": "bar"
           }
          ],
          "barpolar": [
           {
            "marker": {
             "line": {
              "color": "#E5ECF6",
              "width": 0.5
             },
             "pattern": {
              "fillmode": "overlay",
              "size": 10,
              "solidity": 0.2
             }
            },
            "type": "barpolar"
           }
          ],
          "carpet": [
           {
            "aaxis": {
             "endlinecolor": "#2a3f5f",
             "gridcolor": "white",
             "linecolor": "white",
             "minorgridcolor": "white",
             "startlinecolor": "#2a3f5f"
            },
            "baxis": {
             "endlinecolor": "#2a3f5f",
             "gridcolor": "white",
             "linecolor": "white",
             "minorgridcolor": "white",
             "startlinecolor": "#2a3f5f"
            },
            "type": "carpet"
           }
          ],
          "choropleth": [
           {
            "colorbar": {
             "outlinewidth": 0,
             "ticks": ""
            },
            "type": "choropleth"
           }
          ],
          "contour": [
           {
            "colorbar": {
             "outlinewidth": 0,
             "ticks": ""
            },
            "colorscale": [
             [
              0,
              "#0d0887"
             ],
             [
              0.1111111111111111,
              "#46039f"
             ],
             [
              0.2222222222222222,
              "#7201a8"
             ],
             [
              0.3333333333333333,
              "#9c179e"
             ],
             [
              0.4444444444444444,
              "#bd3786"
             ],
             [
              0.5555555555555556,
              "#d8576b"
             ],
             [
              0.6666666666666666,
              "#ed7953"
             ],
             [
              0.7777777777777778,
              "#fb9f3a"
             ],
             [
              0.8888888888888888,
              "#fdca26"
             ],
             [
              1,
              "#f0f921"
             ]
            ],
            "type": "contour"
           }
          ],
          "contourcarpet": [
           {
            "colorbar": {
             "outlinewidth": 0,
             "ticks": ""
            },
            "type": "contourcarpet"
           }
          ],
          "heatmap": [
           {
            "colorbar": {
             "outlinewidth": 0,
             "ticks": ""
            },
            "colorscale": [
             [
              0,
              "#0d0887"
             ],
             [
              0.1111111111111111,
              "#46039f"
             ],
             [
              0.2222222222222222,
              "#7201a8"
             ],
             [
              0.3333333333333333,
              "#9c179e"
             ],
             [
              0.4444444444444444,
              "#bd3786"
             ],
             [
              0.5555555555555556,
              "#d8576b"
             ],
             [
              0.6666666666666666,
              "#ed7953"
             ],
             [
              0.7777777777777778,
              "#fb9f3a"
             ],
             [
              0.8888888888888888,
              "#fdca26"
             ],
             [
              1,
              "#f0f921"
             ]
            ],
            "type": "heatmap"
           }
          ],
          "heatmapgl": [
           {
            "colorbar": {
             "outlinewidth": 0,
             "ticks": ""
            },
            "colorscale": [
             [
              0,
              "#0d0887"
             ],
             [
              0.1111111111111111,
              "#46039f"
             ],
             [
              0.2222222222222222,
              "#7201a8"
             ],
             [
              0.3333333333333333,
              "#9c179e"
             ],
             [
              0.4444444444444444,
              "#bd3786"
             ],
             [
              0.5555555555555556,
              "#d8576b"
             ],
             [
              0.6666666666666666,
              "#ed7953"
             ],
             [
              0.7777777777777778,
              "#fb9f3a"
             ],
             [
              0.8888888888888888,
              "#fdca26"
             ],
             [
              1,
              "#f0f921"
             ]
            ],
            "type": "heatmapgl"
           }
          ],
          "histogram": [
           {
            "marker": {
             "pattern": {
              "fillmode": "overlay",
              "size": 10,
              "solidity": 0.2
             }
            },
            "type": "histogram"
           }
          ],
          "histogram2d": [
           {
            "colorbar": {
             "outlinewidth": 0,
             "ticks": ""
            },
            "colorscale": [
             [
              0,
              "#0d0887"
             ],
             [
              0.1111111111111111,
              "#46039f"
             ],
             [
              0.2222222222222222,
              "#7201a8"
             ],
             [
              0.3333333333333333,
              "#9c179e"
             ],
             [
              0.4444444444444444,
              "#bd3786"
             ],
             [
              0.5555555555555556,
              "#d8576b"
             ],
             [
              0.6666666666666666,
              "#ed7953"
             ],
             [
              0.7777777777777778,
              "#fb9f3a"
             ],
             [
              0.8888888888888888,
              "#fdca26"
             ],
             [
              1,
              "#f0f921"
             ]
            ],
            "type": "histogram2d"
           }
          ],
          "histogram2dcontour": [
           {
            "colorbar": {
             "outlinewidth": 0,
             "ticks": ""
            },
            "colorscale": [
             [
              0,
              "#0d0887"
             ],
             [
              0.1111111111111111,
              "#46039f"
             ],
             [
              0.2222222222222222,
              "#7201a8"
             ],
             [
              0.3333333333333333,
              "#9c179e"
             ],
             [
              0.4444444444444444,
              "#bd3786"
             ],
             [
              0.5555555555555556,
              "#d8576b"
             ],
             [
              0.6666666666666666,
              "#ed7953"
             ],
             [
              0.7777777777777778,
              "#fb9f3a"
             ],
             [
              0.8888888888888888,
              "#fdca26"
             ],
             [
              1,
              "#f0f921"
             ]
            ],
            "type": "histogram2dcontour"
           }
          ],
          "mesh3d": [
           {
            "colorbar": {
             "outlinewidth": 0,
             "ticks": ""
            },
            "type": "mesh3d"
           }
          ],
          "parcoords": [
           {
            "line": {
             "colorbar": {
              "outlinewidth": 0,
              "ticks": ""
             }
            },
            "type": "parcoords"
           }
          ],
          "pie": [
           {
            "automargin": true,
            "type": "pie"
           }
          ],
          "scatter": [
           {
            "fillpattern": {
             "fillmode": "overlay",
             "size": 10,
             "solidity": 0.2
            },
            "type": "scatter"
           }
          ],
          "scatter3d": [
           {
            "line": {
             "colorbar": {
              "outlinewidth": 0,
              "ticks": ""
             }
            },
            "marker": {
             "colorbar": {
              "outlinewidth": 0,
              "ticks": ""
             }
            },
            "type": "scatter3d"
           }
          ],
          "scattercarpet": [
           {
            "marker": {
             "colorbar": {
              "outlinewidth": 0,
              "ticks": ""
             }
            },
            "type": "scattercarpet"
           }
          ],
          "scattergeo": [
           {
            "marker": {
             "colorbar": {
              "outlinewidth": 0,
              "ticks": ""
             }
            },
            "type": "scattergeo"
           }
          ],
          "scattergl": [
           {
            "marker": {
             "colorbar": {
              "outlinewidth": 0,
              "ticks": ""
             }
            },
            "type": "scattergl"
           }
          ],
          "scattermapbox": [
           {
            "marker": {
             "colorbar": {
              "outlinewidth": 0,
              "ticks": ""
             }
            },
            "type": "scattermapbox"
           }
          ],
          "scatterpolar": [
           {
            "marker": {
             "colorbar": {
              "outlinewidth": 0,
              "ticks": ""
             }
            },
            "type": "scatterpolar"
           }
          ],
          "scatterpolargl": [
           {
            "marker": {
             "colorbar": {
              "outlinewidth": 0,
              "ticks": ""
             }
            },
            "type": "scatterpolargl"
           }
          ],
          "scatterternary": [
           {
            "marker": {
             "colorbar": {
              "outlinewidth": 0,
              "ticks": ""
             }
            },
            "type": "scatterternary"
           }
          ],
          "surface": [
           {
            "colorbar": {
             "outlinewidth": 0,
             "ticks": ""
            },
            "colorscale": [
             [
              0,
              "#0d0887"
             ],
             [
              0.1111111111111111,
              "#46039f"
             ],
             [
              0.2222222222222222,
              "#7201a8"
             ],
             [
              0.3333333333333333,
              "#9c179e"
             ],
             [
              0.4444444444444444,
              "#bd3786"
             ],
             [
              0.5555555555555556,
              "#d8576b"
             ],
             [
              0.6666666666666666,
              "#ed7953"
             ],
             [
              0.7777777777777778,
              "#fb9f3a"
             ],
             [
              0.8888888888888888,
              "#fdca26"
             ],
             [
              1,
              "#f0f921"
             ]
            ],
            "type": "surface"
           }
          ],
          "table": [
           {
            "cells": {
             "fill": {
              "color": "#EBF0F8"
             },
             "line": {
              "color": "white"
             }
            },
            "header": {
             "fill": {
              "color": "#C8D4E3"
             },
             "line": {
              "color": "white"
             }
            },
            "type": "table"
           }
          ]
         },
         "layout": {
          "annotationdefaults": {
           "arrowcolor": "#2a3f5f",
           "arrowhead": 0,
           "arrowwidth": 1
          },
          "autotypenumbers": "strict",
          "coloraxis": {
           "colorbar": {
            "outlinewidth": 0,
            "ticks": ""
           }
          },
          "colorscale": {
           "diverging": [
            [
             0,
             "#8e0152"
            ],
            [
             0.1,
             "#c51b7d"
            ],
            [
             0.2,
             "#de77ae"
            ],
            [
             0.3,
             "#f1b6da"
            ],
            [
             0.4,
             "#fde0ef"
            ],
            [
             0.5,
             "#f7f7f7"
            ],
            [
             0.6,
             "#e6f5d0"
            ],
            [
             0.7,
             "#b8e186"
            ],
            [
             0.8,
             "#7fbc41"
            ],
            [
             0.9,
             "#4d9221"
            ],
            [
             1,
             "#276419"
            ]
           ],
           "sequential": [
            [
             0,
             "#0d0887"
            ],
            [
             0.1111111111111111,
             "#46039f"
            ],
            [
             0.2222222222222222,
             "#7201a8"
            ],
            [
             0.3333333333333333,
             "#9c179e"
            ],
            [
             0.4444444444444444,
             "#bd3786"
            ],
            [
             0.5555555555555556,
             "#d8576b"
            ],
            [
             0.6666666666666666,
             "#ed7953"
            ],
            [
             0.7777777777777778,
             "#fb9f3a"
            ],
            [
             0.8888888888888888,
             "#fdca26"
            ],
            [
             1,
             "#f0f921"
            ]
           ],
           "sequentialminus": [
            [
             0,
             "#0d0887"
            ],
            [
             0.1111111111111111,
             "#46039f"
            ],
            [
             0.2222222222222222,
             "#7201a8"
            ],
            [
             0.3333333333333333,
             "#9c179e"
            ],
            [
             0.4444444444444444,
             "#bd3786"
            ],
            [
             0.5555555555555556,
             "#d8576b"
            ],
            [
             0.6666666666666666,
             "#ed7953"
            ],
            [
             0.7777777777777778,
             "#fb9f3a"
            ],
            [
             0.8888888888888888,
             "#fdca26"
            ],
            [
             1,
             "#f0f921"
            ]
           ]
          },
          "colorway": [
           "#636efa",
           "#EF553B",
           "#00cc96",
           "#ab63fa",
           "#FFA15A",
           "#19d3f3",
           "#FF6692",
           "#B6E880",
           "#FF97FF",
           "#FECB52"
          ],
          "font": {
           "color": "#2a3f5f"
          },
          "geo": {
           "bgcolor": "white",
           "lakecolor": "white",
           "landcolor": "#E5ECF6",
           "showlakes": true,
           "showland": true,
           "subunitcolor": "white"
          },
          "hoverlabel": {
           "align": "left"
          },
          "hovermode": "closest",
          "mapbox": {
           "style": "light"
          },
          "paper_bgcolor": "white",
          "plot_bgcolor": "#E5ECF6",
          "polar": {
           "angularaxis": {
            "gridcolor": "white",
            "linecolor": "white",
            "ticks": ""
           },
           "bgcolor": "#E5ECF6",
           "radialaxis": {
            "gridcolor": "white",
            "linecolor": "white",
            "ticks": ""
           }
          },
          "scene": {
           "xaxis": {
            "backgroundcolor": "#E5ECF6",
            "gridcolor": "white",
            "gridwidth": 2,
            "linecolor": "white",
            "showbackground": true,
            "ticks": "",
            "zerolinecolor": "white"
           },
           "yaxis": {
            "backgroundcolor": "#E5ECF6",
            "gridcolor": "white",
            "gridwidth": 2,
            "linecolor": "white",
            "showbackground": true,
            "ticks": "",
            "zerolinecolor": "white"
           },
           "zaxis": {
            "backgroundcolor": "#E5ECF6",
            "gridcolor": "white",
            "gridwidth": 2,
            "linecolor": "white",
            "showbackground": true,
            "ticks": "",
            "zerolinecolor": "white"
           }
          },
          "shapedefaults": {
           "line": {
            "color": "#2a3f5f"
           }
          },
          "ternary": {
           "aaxis": {
            "gridcolor": "white",
            "linecolor": "white",
            "ticks": ""
           },
           "baxis": {
            "gridcolor": "white",
            "linecolor": "white",
            "ticks": ""
           },
           "bgcolor": "#E5ECF6",
           "caxis": {
            "gridcolor": "white",
            "linecolor": "white",
            "ticks": ""
           }
          },
          "title": {
           "x": 0.05
          },
          "xaxis": {
           "automargin": true,
           "gridcolor": "white",
           "linecolor": "white",
           "ticks": "",
           "title": {
            "standoff": 15
           },
           "zerolinecolor": "white",
           "zerolinewidth": 2
          },
          "yaxis": {
           "automargin": true,
           "gridcolor": "white",
           "linecolor": "white",
           "ticks": "",
           "title": {
            "standoff": 15
           },
           "zerolinecolor": "white",
           "zerolinewidth": 2
          }
         }
        },
        "title": {
         "text": "12x64x32x1, tanh, SGD, lr 0.01, 100 epochs"
        },
        "xaxis": {
         "title": {
          "text": "Epoch"
         }
        },
        "yaxis": {
         "title": {
          "text": "MSE"
         }
        }
       }
      }
     },
     "metadata": {},
     "output_type": "display_data"
    }
   ],
   "source": [
    "fig = go.Figure()\n",
    "\n",
    "fig.add_trace(go.Scatter(\n",
    "    x=list(range(len(training_losses))),\n",
    "    y=training_losses,\n",
    "    name=\"Train\"))\n",
    "fig.add_trace(go.Scatter(\n",
    "    x=list(range(len(training_losses))),\n",
    "    y=testing_losses,\n",
    "    name=\"Test\"\n",
    "))\n",
    "\n",
    "fig.update_layout(\n",
    "    title='12x64x32x1, tanh, SGD, lr 0.01, 100 epochs',\n",
    "    xaxis_title=\"Epoch\",\n",
    "    yaxis_title=\"MSE\"\n",
    ")\n",
    "\n",
    "fig.show()"
   ]
  },
  {
   "cell_type": "code",
   "execution_count": 508,
   "metadata": {},
   "outputs": [
    {
     "name": "stdout",
     "output_type": "stream",
     "text": [
      "FirstNetwork(\n",
      "  (fc1): Linear(in_features=12, out_features=64, bias=True)\n",
      "  (fc2): Linear(in_features=64, out_features=32, bias=True)\n",
      "  (fc3): Linear(in_features=32, out_features=1, bias=True)\n",
      "  (tanh): Tanh()\n",
      "  (dropout): Dropout(p=0.2, inplace=False)\n",
      ")\n"
     ]
    }
   ],
   "source": [
    "print(model)"
   ]
  },
  {
   "attachments": {},
   "cell_type": "markdown",
   "metadata": {},
   "source": [
    "Część wyników jest ujemnych więc dajemy średnią"
   ]
  },
  {
   "cell_type": "code",
   "execution_count": null,
   "metadata": {},
   "outputs": [],
   "source": [
    "# calculate avaeger cnt \n",
    "average_cnt = np.mean(outputs)\n",
    "for i in range(len(outputs)):\n",
    "    if outputs[i] < 0:\n",
    "        outputs[i] = average_cnt\n",
    "np.savetxt(\"output.csv\", outputs, delimiter=\",\")"
   ]
  }
 ],
 "metadata": {
  "kernelspec": {
   "display_name": "Python 3",
   "language": "python",
   "name": "python3"
  },
  "language_info": {
   "codemirror_mode": {
    "name": "ipython",
    "version": 3
   },
   "file_extension": ".py",
   "mimetype": "text/x-python",
   "name": "python",
   "nbconvert_exporter": "python",
   "pygments_lexer": "ipython3",
   "version": "3.10.7"
  },
  "orig_nbformat": 4
 },
 "nbformat": 4,
 "nbformat_minor": 2
}
